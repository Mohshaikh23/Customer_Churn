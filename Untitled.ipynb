{
 "cells": [
  {
   "cell_type": "code",
   "execution_count": 2,
   "id": "e79b5dbb",
   "metadata": {},
   "outputs": [
    {
     "data": {
      "text/plain": [
       "(7043, 21)"
      ]
     },
     "execution_count": 2,
     "metadata": {},
     "output_type": "execute_result"
    }
   ],
   "source": [
    "import numpy as np\n",
    "import pandas as pd\n",
    "import matplotlib.pyplot as plt\n",
    "import seaborn as sns\n",
    "\n",
    "from sklearn.pipeline import Pipeline\n",
    "from sklearn.preprocessing import StandardScaler, OneHotEncoder, LabelEncoder\n",
    "from sklearn.model_selection import train_test_split, cross_val_score, GridSearchCV\n",
    "from sklearn.ensemble import RandomForestClassifier\n",
    "from sklearn.metrics import accuracy_score , classification_report\n",
    "import warnings\n",
    "warnings.filterwarnings(\"ignore\", category=DeprecationWarning)\n",
    "\n",
    "original_dataframe = pd.read_csv('dataset.csv')\n",
    "df = original_dataframe.copy()\n",
    "df.shape"
   ]
  },
  {
   "cell_type": "code",
   "execution_count": 3,
   "id": "664d707d",
   "metadata": {
    "scrolled": true
   },
   "outputs": [],
   "source": [
    "def preprocess(df):\n",
    "    # Drop the 'customerID' column\n",
    "    if 'customerID' in df.columns:\n",
    "        df.drop('customerID', axis=1, inplace=True)\n",
    "    \n",
    "    df = df.apply(lambda x: x.str.strip() if x.dtype == 'object' else x)  \n",
    "    # Strip whitespace from object columns\n",
    "    \n",
    "    df.replace('', np.nan, inplace=True)\n",
    "    # Replace empty strings with NaN\n",
    "    \n",
    "    df = df.dropna().reset_index(drop=True)\n",
    "    # Drop rows with NaN values\n",
    "     \n",
    "    df['TotalCharges'] = df['TotalCharges'].astype(float)\n",
    "    df['SeniorCitizen'] = df['SeniorCitizen'].astype(float)\n",
    "    df['tenure'] = df['tenure'].astype(float)\n",
    "    df['MonthlyCharges'] = df['MonthlyCharges'].astype(float)\n",
    "    # Convert 'TotalCharges' column to float\n",
    "        \n",
    "    return df"
   ]
  },
  {
   "cell_type": "code",
   "execution_count": 4,
   "id": "9e5c6fc7",
   "metadata": {},
   "outputs": [
    {
     "name": "stdout",
     "output_type": "stream",
     "text": [
      "(7032, 20)\n",
      "(7032, 19) (7032,)\n"
     ]
    }
   ],
   "source": [
    "new_df = preprocess(df)\n",
    "new_df\n",
    "print(new_df.shape)\n",
    "\n",
    "X = new_df.iloc[:, :-1]\n",
    "y = new_df.iloc[:, -1]\n",
    "\n",
    "print(X.shape, y.shape)\n",
    "# X_train, X_test, y_train, y_test = train_test_split(X,y,test_size=0.2,random_state=105)"
   ]
  },
  {
   "cell_type": "code",
   "execution_count": 5,
   "id": "8ec9e2a9",
   "metadata": {},
   "outputs": [],
   "source": [
    "def X_encoder(X):    \n",
    "    \n",
    "    numerical_columns = X.select_dtypes(include='float').columns\n",
    "    categorical_columns = X.select_dtypes(include='object').columns\n",
    "    \n",
    "    X_num = X[numerical_columns].values\n",
    "    \n",
    "    ohe = OneHotEncoder(sparse_output = False, drop= 'first', handle_unknown='ignore')\n",
    "    X_cat = ohe.fit_transform(X[categorical_columns])\n",
    "    \n",
    "    X = np.hstack((X_num,X_cat))\n",
    "    \n",
    "    return X"
   ]
  },
  {
   "cell_type": "code",
   "execution_count": 6,
   "id": "a602b73a",
   "metadata": {},
   "outputs": [
    {
     "name": "stdout",
     "output_type": "stream",
     "text": [
      "(7032, 30)\n"
     ]
    },
    {
     "data": {
      "text/plain": [
       "array([[  0.  ,   1.  ,  29.85, ...,   0.  ,   1.  ,   0.  ],\n",
       "       [  0.  ,  34.  ,  56.95, ...,   0.  ,   0.  ,   1.  ],\n",
       "       [  0.  ,   2.  ,  53.85, ...,   0.  ,   0.  ,   1.  ],\n",
       "       ...,\n",
       "       [  0.  ,  11.  ,  29.6 , ...,   0.  ,   1.  ,   0.  ],\n",
       "       [  1.  ,   4.  ,  74.4 , ...,   0.  ,   0.  ,   1.  ],\n",
       "       [  0.  ,  66.  , 105.65, ...,   0.  ,   0.  ,   0.  ]])"
      ]
     },
     "execution_count": 6,
     "metadata": {},
     "output_type": "execute_result"
    }
   ],
   "source": [
    "X = X_encoder(X)\n",
    "print(X.shape)\n",
    "X"
   ]
  },
  {
   "cell_type": "code",
   "execution_count": 7,
   "id": "79e62be2",
   "metadata": {},
   "outputs": [],
   "source": [
    "def y_encoder(y):\n",
    "    \n",
    "    lab = LabelEncoder()\n",
    "\n",
    "    y = lab.fit_transform(y)\n",
    "    \n",
    "    return y"
   ]
  },
  {
   "cell_type": "code",
   "execution_count": 8,
   "id": "6da5f8f3",
   "metadata": {},
   "outputs": [
    {
     "name": "stdout",
     "output_type": "stream",
     "text": [
      "(7032,)\n"
     ]
    },
    {
     "data": {
      "text/plain": [
       "array([0, 0, 1, ..., 0, 1, 0])"
      ]
     },
     "execution_count": 8,
     "metadata": {},
     "output_type": "execute_result"
    }
   ],
   "source": [
    "y = y_encoder(y)\n",
    "print(y.shape)\n",
    "\n",
    "y"
   ]
  },
  {
   "cell_type": "code",
   "execution_count": 9,
   "id": "5054f563",
   "metadata": {
    "scrolled": false
   },
   "outputs": [],
   "source": [
    "from imblearn.over_sampling import SMOTE\n",
    "def smoter(X, y):\n",
    "    sm = SMOTE(random_state=102)\n",
    "    \n",
    "    X, y = sm.fit_resample(X, y.ravel())\n",
    "    \n",
    "    return X, y"
   ]
  },
  {
   "cell_type": "code",
   "execution_count": 10,
   "id": "6fc90e5a",
   "metadata": {
    "scrolled": true
   },
   "outputs": [],
   "source": [
    "X, y = smoter(X, y)"
   ]
  },
  {
   "cell_type": "code",
   "execution_count": 11,
   "id": "05c11395",
   "metadata": {},
   "outputs": [
    {
     "data": {
      "text/plain": [
       "((10326, 30), (10326,))"
      ]
     },
     "execution_count": 11,
     "metadata": {},
     "output_type": "execute_result"
    }
   ],
   "source": [
    "X.shape, y.shape"
   ]
  },
  {
   "cell_type": "code",
   "execution_count": 12,
   "id": "b092f29e",
   "metadata": {},
   "outputs": [],
   "source": [
    "X_train, X_test, y_train, y_test = train_test_split(X,y,test_size=0.2,random_state=105)"
   ]
  },
  {
   "cell_type": "code",
   "execution_count": 13,
   "id": "d0175b55",
   "metadata": {},
   "outputs": [],
   "source": [
    "from sklearn.pipeline import Pipeline\n",
    "\n",
    "# Create the pipeline\n",
    "pipeline = Pipeline([\n",
    "    ('Standardization', StandardScaler()),\n",
    "    ('Random_Forest', RandomForestClassifier())\n",
    "     ])\n",
    "\n",
    "# Fit the pipeline to the training data\n",
    "pipeline.fit(X_train, y_train)\n",
    "\n",
    "# Make predictions on the test data\n",
    "y_pred = pipeline.predict(X_test)\n",
    "\n",
    "# Evaluate the model\n",
    "accuracy = accuracy_score(y_test, y_pred)"
   ]
  },
  {
   "cell_type": "code",
   "execution_count": 14,
   "id": "52606364",
   "metadata": {},
   "outputs": [
    {
     "data": {
      "text/html": [
       "<style>#sk-container-id-1 {color: black;background-color: white;}#sk-container-id-1 pre{padding: 0;}#sk-container-id-1 div.sk-toggleable {background-color: white;}#sk-container-id-1 label.sk-toggleable__label {cursor: pointer;display: block;width: 100%;margin-bottom: 0;padding: 0.3em;box-sizing: border-box;text-align: center;}#sk-container-id-1 label.sk-toggleable__label-arrow:before {content: \"▸\";float: left;margin-right: 0.25em;color: #696969;}#sk-container-id-1 label.sk-toggleable__label-arrow:hover:before {color: black;}#sk-container-id-1 div.sk-estimator:hover label.sk-toggleable__label-arrow:before {color: black;}#sk-container-id-1 div.sk-toggleable__content {max-height: 0;max-width: 0;overflow: hidden;text-align: left;background-color: #f0f8ff;}#sk-container-id-1 div.sk-toggleable__content pre {margin: 0.2em;color: black;border-radius: 0.25em;background-color: #f0f8ff;}#sk-container-id-1 input.sk-toggleable__control:checked~div.sk-toggleable__content {max-height: 200px;max-width: 100%;overflow: auto;}#sk-container-id-1 input.sk-toggleable__control:checked~label.sk-toggleable__label-arrow:before {content: \"▾\";}#sk-container-id-1 div.sk-estimator input.sk-toggleable__control:checked~label.sk-toggleable__label {background-color: #d4ebff;}#sk-container-id-1 div.sk-label input.sk-toggleable__control:checked~label.sk-toggleable__label {background-color: #d4ebff;}#sk-container-id-1 input.sk-hidden--visually {border: 0;clip: rect(1px 1px 1px 1px);clip: rect(1px, 1px, 1px, 1px);height: 1px;margin: -1px;overflow: hidden;padding: 0;position: absolute;width: 1px;}#sk-container-id-1 div.sk-estimator {font-family: monospace;background-color: #f0f8ff;border: 1px dotted black;border-radius: 0.25em;box-sizing: border-box;margin-bottom: 0.5em;}#sk-container-id-1 div.sk-estimator:hover {background-color: #d4ebff;}#sk-container-id-1 div.sk-parallel-item::after {content: \"\";width: 100%;border-bottom: 1px solid gray;flex-grow: 1;}#sk-container-id-1 div.sk-label:hover label.sk-toggleable__label {background-color: #d4ebff;}#sk-container-id-1 div.sk-serial::before {content: \"\";position: absolute;border-left: 1px solid gray;box-sizing: border-box;top: 0;bottom: 0;left: 50%;z-index: 0;}#sk-container-id-1 div.sk-serial {display: flex;flex-direction: column;align-items: center;background-color: white;padding-right: 0.2em;padding-left: 0.2em;position: relative;}#sk-container-id-1 div.sk-item {position: relative;z-index: 1;}#sk-container-id-1 div.sk-parallel {display: flex;align-items: stretch;justify-content: center;background-color: white;position: relative;}#sk-container-id-1 div.sk-item::before, #sk-container-id-1 div.sk-parallel-item::before {content: \"\";position: absolute;border-left: 1px solid gray;box-sizing: border-box;top: 0;bottom: 0;left: 50%;z-index: -1;}#sk-container-id-1 div.sk-parallel-item {display: flex;flex-direction: column;z-index: 1;position: relative;background-color: white;}#sk-container-id-1 div.sk-parallel-item:first-child::after {align-self: flex-end;width: 50%;}#sk-container-id-1 div.sk-parallel-item:last-child::after {align-self: flex-start;width: 50%;}#sk-container-id-1 div.sk-parallel-item:only-child::after {width: 0;}#sk-container-id-1 div.sk-dashed-wrapped {border: 1px dashed gray;margin: 0 0.4em 0.5em 0.4em;box-sizing: border-box;padding-bottom: 0.4em;background-color: white;}#sk-container-id-1 div.sk-label label {font-family: monospace;font-weight: bold;display: inline-block;line-height: 1.2em;}#sk-container-id-1 div.sk-label-container {text-align: center;}#sk-container-id-1 div.sk-container {/* jupyter's `normalize.less` sets `[hidden] { display: none; }` but bootstrap.min.css set `[hidden] { display: none !important; }` so we also need the `!important` here to be able to override the default hidden behavior on the sphinx rendered scikit-learn.org. See: https://github.com/scikit-learn/scikit-learn/issues/21755 */display: inline-block !important;position: relative;}#sk-container-id-1 div.sk-text-repr-fallback {display: none;}</style><div id=\"sk-container-id-1\" class=\"sk-top-container\"><div class=\"sk-text-repr-fallback\"><pre>Pipeline(steps=[(&#x27;Standardization&#x27;, StandardScaler()),\n",
       "                (&#x27;Random_Forest&#x27;, RandomForestClassifier())])</pre><b>In a Jupyter environment, please rerun this cell to show the HTML representation or trust the notebook. <br />On GitHub, the HTML representation is unable to render, please try loading this page with nbviewer.org.</b></div><div class=\"sk-container\" hidden><div class=\"sk-item sk-dashed-wrapped\"><div class=\"sk-label-container\"><div class=\"sk-label sk-toggleable\"><input class=\"sk-toggleable__control sk-hidden--visually\" id=\"sk-estimator-id-1\" type=\"checkbox\" ><label for=\"sk-estimator-id-1\" class=\"sk-toggleable__label sk-toggleable__label-arrow\">Pipeline</label><div class=\"sk-toggleable__content\"><pre>Pipeline(steps=[(&#x27;Standardization&#x27;, StandardScaler()),\n",
       "                (&#x27;Random_Forest&#x27;, RandomForestClassifier())])</pre></div></div></div><div class=\"sk-serial\"><div class=\"sk-item\"><div class=\"sk-estimator sk-toggleable\"><input class=\"sk-toggleable__control sk-hidden--visually\" id=\"sk-estimator-id-2\" type=\"checkbox\" ><label for=\"sk-estimator-id-2\" class=\"sk-toggleable__label sk-toggleable__label-arrow\">StandardScaler</label><div class=\"sk-toggleable__content\"><pre>StandardScaler()</pre></div></div></div><div class=\"sk-item\"><div class=\"sk-estimator sk-toggleable\"><input class=\"sk-toggleable__control sk-hidden--visually\" id=\"sk-estimator-id-3\" type=\"checkbox\" ><label for=\"sk-estimator-id-3\" class=\"sk-toggleable__label sk-toggleable__label-arrow\">RandomForestClassifier</label><div class=\"sk-toggleable__content\"><pre>RandomForestClassifier()</pre></div></div></div></div></div></div></div>"
      ],
      "text/plain": [
       "Pipeline(steps=[('Standardization', StandardScaler()),\n",
       "                ('Random_Forest', RandomForestClassifier())])"
      ]
     },
     "execution_count": 14,
     "metadata": {},
     "output_type": "execute_result"
    }
   ],
   "source": [
    "pipeline"
   ]
  },
  {
   "cell_type": "code",
   "execution_count": 15,
   "id": "367f3b34",
   "metadata": {
    "scrolled": true
   },
   "outputs": [
    {
     "data": {
      "text/plain": [
       "0.8707647628267183"
      ]
     },
     "execution_count": 15,
     "metadata": {},
     "output_type": "execute_result"
    }
   ],
   "source": [
    "accuracy"
   ]
  },
  {
   "cell_type": "code",
   "execution_count": 16,
   "id": "cff25813",
   "metadata": {},
   "outputs": [
    {
     "name": "stdout",
     "output_type": "stream",
     "text": [
      "Best Hyperparameters: {'Random_Forest__max_depth': None, 'Random_Forest__n_estimators': 300}\n",
      "Best Score: 0.8571428571428571\n",
      "Accuracy: 0.8712487899322362\n",
      "              precision    recall  f1-score   support\n",
      "\n",
      "           0       0.85      0.90      0.87      1037\n",
      "           1       0.89      0.85      0.87      1029\n",
      "\n",
      "    accuracy                           0.87      2066\n",
      "   macro avg       0.87      0.87      0.87      2066\n",
      "weighted avg       0.87      0.87      0.87      2066\n",
      "\n"
     ]
    }
   ],
   "source": [
    "from sklearn.model_selection import GridSearchCV\n",
    "\n",
    "# Define the hyperparameters and their possible values\n",
    "param_grid = {\n",
    "    'Random_Forest__n_estimators': [100, 200, 300],\n",
    "    'Random_Forest__max_depth': [None, 5, 10]\n",
    "}\n",
    "\n",
    "# Create the GridSearchCV object with the pipeline and parameter grid\n",
    "grid_search = GridSearchCV(pipeline, param_grid, cv=5, scoring='accuracy')\n",
    "\n",
    "# Fit the GridSearchCV object to the training data\n",
    "grid_search.fit(X_train, y_train)\n",
    "\n",
    "# Get the best model and its hyperparameters\n",
    "best_model = grid_search.best_estimator_\n",
    "best_params = grid_search.best_params_\n",
    "best_score = grid_search.best_score_\n",
    "\n",
    "# Print the best hyperparameters and score\n",
    "print(\"Best Hyperparameters:\", best_params)\n",
    "print(\"Best Score:\", best_score)\n",
    "\n",
    "# Make predictions on the test data using the best model\n",
    "y_pred = best_model.predict(X_test)\n",
    "\n",
    "# Evaluate the model\n",
    "accuracy = accuracy_score(y_test, y_pred)\n",
    "print(\"Accuracy:\", accuracy)\n",
    "\n",
    "print(classification_report(y_test, y_pred))"
   ]
  },
  {
   "cell_type": "code",
   "execution_count": 17,
   "id": "2def46fa",
   "metadata": {},
   "outputs": [
    {
     "name": "stdout",
     "output_type": "stream",
     "text": [
      "Pipeline(steps=[('Standardization', StandardScaler()),\n",
      "                ('Random_Forest', RandomForestClassifier(n_estimators=300))])\n"
     ]
    }
   ],
   "source": [
    "print(best_model)"
   ]
  },
  {
   "cell_type": "code",
   "execution_count": 18,
   "id": "5244d185",
   "metadata": {},
   "outputs": [
    {
     "data": {
      "text/plain": [
       "0.8712487899322362"
      ]
     },
     "execution_count": 18,
     "metadata": {},
     "output_type": "execute_result"
    }
   ],
   "source": [
    "import pickle\n",
    "\n",
    "filename = 'model.pkl'\n",
    "\n",
    "pickle.dump(best_model, open(filename, 'wb'))\n",
    "\n",
    "load_model = pickle.load(open(filename, 'rb'))\n",
    "\n",
    "model_score_r1 = load_model.score(X_test, y_test)\n",
    "\n",
    "model_score_r1"
   ]
  },
  {
   "cell_type": "code",
   "execution_count": 19,
   "id": "a3f9a620",
   "metadata": {},
   "outputs": [
    {
     "data": {
      "text/plain": [
       "array([[0.97333333, 0.02666667],\n",
       "       [0.56      , 0.44      ],\n",
       "       [1.        , 0.        ],\n",
       "       ...,\n",
       "       [0.81      , 0.19      ],\n",
       "       [0.21627778, 0.78372222],\n",
       "       [0.00333333, 0.99666667]])"
      ]
     },
     "execution_count": 19,
     "metadata": {},
     "output_type": "execute_result"
    }
   ],
   "source": [
    "y_pred_prob = best_model.predict_proba(X_test)\n",
    "y_pred_prob"
   ]
  },
  {
   "cell_type": "code",
   "execution_count": 20,
   "id": "802410b8",
   "metadata": {},
   "outputs": [
    {
     "data": {
      "text/plain": [
       "array([0.97333333, 0.02666667])"
      ]
     },
     "execution_count": 20,
     "metadata": {},
     "output_type": "execute_result"
    }
   ],
   "source": [
    "y_pred_prob[0]"
   ]
  },
  {
   "cell_type": "code",
   "execution_count": 21,
   "id": "d110ebd8",
   "metadata": {},
   "outputs": [
    {
     "data": {
      "text/plain": [
       "0"
      ]
     },
     "execution_count": 21,
     "metadata": {},
     "output_type": "execute_result"
    }
   ],
   "source": [
    "y_pred[0]"
   ]
  },
  {
   "cell_type": "code",
   "execution_count": 22,
   "id": "a79c827a",
   "metadata": {},
   "outputs": [
    {
     "data": {
      "text/plain": [
       "array([[ 0.        , 33.        , 20.1       , ...,  0.        ,\n",
       "         0.        ,  1.        ],\n",
       "       [ 1.        , 42.        , 74.15      , ...,  1.        ,\n",
       "         0.        ,  0.        ],\n",
       "       [ 0.        , 72.        , 84.9       , ...,  0.        ,\n",
       "         0.        ,  0.        ],\n",
       "       ...,\n",
       "       [ 1.        ,  7.        , 64.95      , ...,  0.        ,\n",
       "         1.        ,  0.        ],\n",
       "       [ 0.        ,  1.        , 20.05      , ...,  0.        ,\n",
       "         0.        ,  1.        ],\n",
       "       [ 0.43377282, 15.43377282, 98.21541071, ...,  0.        ,\n",
       "         1.        ,  0.        ]])"
      ]
     },
     "execution_count": 22,
     "metadata": {},
     "output_type": "execute_result"
    }
   ],
   "source": [
    "X_test"
   ]
  },
  {
   "cell_type": "code",
   "execution_count": 23,
   "id": "1c7ce9d2",
   "metadata": {},
   "outputs": [
    {
     "data": {
      "text/plain": [
       "array([[0.97333333, 0.02666667],\n",
       "       [0.56      , 0.44      ],\n",
       "       [1.        , 0.        ],\n",
       "       ...,\n",
       "       [0.81      , 0.19      ],\n",
       "       [0.21627778, 0.78372222],\n",
       "       [0.00333333, 0.99666667]])"
      ]
     },
     "execution_count": 23,
     "metadata": {},
     "output_type": "execute_result"
    }
   ],
   "source": [
    "load_model.predict_proba(X_test)"
   ]
  },
  {
   "cell_type": "code",
   "execution_count": 28,
   "id": "7693685d",
   "metadata": {},
   "outputs": [
    {
     "name": "stdout",
     "output_type": "stream",
     "text": [
      "No Churn\n",
      "92.67% Probability\n"
     ]
    }
   ],
   "source": [
    "x = ['Female',0,'Yes','No',1,'No','No phone service',\n",
    " 'DSL','No','Yes','No','No','No','No',\n",
    " 'Month-to-month','Yes','Electronic check',29.85,29.85]\n",
    "\n",
    "col =['gender', 'SeniorCitizen','Partner','Dependents',\n",
    "      'tenure','PhoneService','MultipleLines','InternetService',\n",
    "      'OnlineSecurity','OnlineBackup','DeviceProtection',\n",
    "      'TechSupport','StreamingTV','StreamingMovies','Contract',\n",
    "      'PaperlessBilling','PaymentMethod','MonthlyCharges',\n",
    "      'TotalCharges']\n",
    "\n",
    "new_df = pd.DataFrame(data = [x], columns=col)\n",
    "\n",
    "df = pd.concat([original_dataframe.iloc[:,1:len(original_dataframe.columns)-1],\n",
    "                new_df], \n",
    "               ignore_index = True) \n",
    "\n",
    "X = preprocess(df)\n",
    "\n",
    "X = X_encoder(X)\n",
    "\n",
    "X_test = X[-1].reshape(1, -1)\n",
    "prediction = load_model.predict(X_test)\n",
    "prob = load_model.predict_proba(X_test)\n",
    "probability_No,probability_yes = prob[0][0]*100 , prob[0][1]*100\n",
    "\n",
    "if prediction[0]==0:\n",
    "    print('No Churn')\n",
    "    print(f'{round(probability_No,2)}% Probability')\n",
    "else:\n",
    "    print('yes Churn')\n",
    "    print(f'{round(probability_yes,2)}% Probability')\n"
   ]
  },
  {
   "cell_type": "code",
   "execution_count": 25,
   "id": "1d6c9a4f",
   "metadata": {},
   "outputs": [],
   "source": [
    "prob = load_model.predict_proba(X_test)\n"
   ]
  },
  {
   "cell_type": "code",
   "execution_count": 26,
   "id": "c1f7d9cc",
   "metadata": {},
   "outputs": [
    {
     "data": {
      "text/plain": [
       "(92.66666666666666, 7.333333333333333)"
      ]
     },
     "execution_count": 26,
     "metadata": {},
     "output_type": "execute_result"
    }
   ],
   "source": [
    "probability_No,probability_yes"
   ]
  },
  {
   "cell_type": "code",
   "execution_count": 27,
   "id": "347c4d0f",
   "metadata": {},
   "outputs": [
    {
     "ename": "SyntaxError",
     "evalue": "invalid syntax (3036699800.py, line 8)",
     "output_type": "error",
     "traceback": [
      "\u001b[1;36m  Cell \u001b[1;32mIn[27], line 8\u001b[1;36m\u001b[0m\n\u001b[1;33m    phone service\u001b[0m\n\u001b[1;37m          ^\u001b[0m\n\u001b[1;31mSyntaxError\u001b[0m\u001b[1;31m:\u001b[0m invalid syntax\n"
     ]
    }
   ],
   "source": [
    "Male\n",
    "1\n",
    "No\n",
    "No\n",
    "1\n",
    "No\n",
    "No\n",
    "phone service\n",
    "DSL\n",
    "No\n",
    "No\n",
    "Yes\n",
    "No\n",
    "No\n",
    "Yes\n",
    "Month-to-month\n",
    "Yes\n",
    "Electronic check\n",
    "39.65\n",
    "39.65\n"
   ]
  }
 ],
 "metadata": {
  "kernelspec": {
   "display_name": "Python 3 (ipykernel)",
   "language": "python",
   "name": "python3"
  },
  "language_info": {
   "codemirror_mode": {
    "name": "ipython",
    "version": 3
   },
   "file_extension": ".py",
   "mimetype": "text/x-python",
   "name": "python",
   "nbconvert_exporter": "python",
   "pygments_lexer": "ipython3",
   "version": "3.9.16"
  }
 },
 "nbformat": 4,
 "nbformat_minor": 5
}
